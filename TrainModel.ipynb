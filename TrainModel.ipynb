{
 "cells": [
  {
   "cell_type": "code",
   "execution_count": null,
   "metadata": {
    "colab": {
     "base_uri": "https://localhost:8080/",
     "height": 102
    },
    "colab_type": "code",
    "id": "UjHnzhYqlug7",
    "outputId": "1c3d7688-3b25-48f9-f7e0-f974792ef4ba"
   },
   "outputs": [],
   "source": [
    "%tensorflow_version 2\n",
    "import os\n",
    "\n",
    "import pandas as pd\n",
    "\n",
    "hh_columns = ['end_t1', 'end_t2', 'req_len', 'cur_t1', 'cur_t2', 'workday',\n",
    "              'rem_ch', 'rem_steps', 'const_ch', 'min_ch', 'hh_cons',  \n",
    "              'hh_change', 'hh_change_1h', 'hh_change_3h', 'hh_ratio', 'target']\n",
    "frames = []\n",
    "for f in os.listdir('train'):\n",
    "    df = pd.read_csv(f'train/{f}')\n",
    "    df = df[hh_columns] # remove this line to train the model on global inputs\n",
    "    frames.append(df)\n",
    "\n",
    "train = pd.concat(map(lambda x: x[:865], frames), axis=0)\n",
    "test = pd.concat(map(lambda x: x[865:], frames), axis=0)\n",
    "\n",
    "train.fillna(0, inplace=True)\n",
    "test.fillna(0, inplace=True)\n",
    "\n",
    "train_x = train[train.columns[:-1]]\n",
    "train_y = train[train.columns[-1]]\n",
    "\n",
    "test_x = test[test.columns[:-1]]\n",
    "test_y = test[test.columns[-1]]"
   ]
  },
  {
   "cell_type": "code",
   "execution_count": null,
   "metadata": {
    "colab": {
     "base_uri": "https://localhost:8080/",
     "height": 1000
    },
    "colab_type": "code",
    "id": "WpC5aeWJluhC",
    "outputId": "e4f0f712-3587-43db-a10a-07c33f6a4aba"
   },
   "outputs": [],
   "source": [
    "import tensorflow as tf\n",
    "import numpy as np\n",
    "\n",
    "for i in range(10):    \n",
    "    model = tf.keras.models.Sequential([\n",
    "        tf.keras.layers.Dense(50, activation='relu'),\n",
    "        tf.keras.layers.Dense(1, activation='sigmoid')\n",
    "    ])\n",
    "\n",
    "    model.compile(optimizer='adam',\n",
    "                  loss='mse',\n",
    "                  metrics=['mse'])\n",
    "    \n",
    "    mc = tf.keras.callbacks.ModelCheckpoint('best_model.h5', monitor='val_loss', mode='min', verbose=1, save_best_only=True)\n",
    "    es = tf.keras.callbacks.EarlyStopping(patience=100)\n",
    "    model.fit(train_x.values, train_y.values, epochs=1000, validation_data=(test_x.values, test_y.values), callbacks=[mc, es], verbose=0, batch_size=128)\n",
    "    \n",
    "    model = tf.keras.models.load_model('best_model.h5')\n",
    "    l0 = np.append(model.layers[0].weights[1].numpy().reshape(1,-1), model.layers[0].weights[0].numpy(), axis=0).ravel()\n",
    "    l1 = np.append(model.layers[1].weights[1].numpy().reshape(1,-1), model.layers[1].weights[0].numpy(), axis=0).ravel()\n",
    "    #l2 = np.append(model.layers[2].weights[1].numpy().reshape(1,-1), model.layers[2].weights[0].numpy(), axis=0).ravel()\n",
    "\n",
    "    np.save(f'weights_stable0.1_hh_50_rs_{i}.npy', np.concatenate([l0, l1]))"
   ]
  },
  {
   "cell_type": "code",
   "execution_count": null,
   "metadata": {
    "colab": {},
    "colab_type": "code",
    "id": "z77BMgG4yz3-"
   },
   "outputs": [],
   "source": [
    "!tar -czf weights_stable0.1_50_hh.tar.gz weights_stable0.1_hh_50_*"
   ]
  },
  {
   "cell_type": "code",
   "execution_count": null,
   "metadata": {
    "colab": {
     "base_uri": "https://localhost:8080/",
     "height": 1000
    },
    "colab_type": "code",
    "id": "taiKUczZluhI",
    "outputId": "cd6f3932-8c05-49a9-8889-4e59e2604263"
   },
   "outputs": [],
   "source": [
    "import matplotlib.pyplot as plt\n",
    "import numpy as np\n",
    "\n",
    "predictions = model.predict(test_x.values).reshape((-1,))\n",
    "\n",
    "from sklearn.metrics import r2_score\n",
    "R2 = r2_score(test_y, predictions, multioutput='variance_weighted')\n",
    "print(R2)\n",
    "\n",
    "plt.figure(figsize=(12,12))\n",
    "plt.scatter(test_y, predictions, alpha=0.2)\n",
    "plt.xlim((0,1))\n",
    "plt.ylim((0,1))\n",
    "plt.show()\n",
    "\n",
    "plt.figure(figsize=(12,8))\n",
    "plt.hist(test_y.values - predictions, bins=1000)\n",
    "plt.xlim((-0.5, 0.5))\n",
    "plt.show()"
   ]
  }
 ],
 "metadata": {
  "accelerator": "GPU",
  "colab": {
   "collapsed_sections": [],
   "name": "TrainModel.ipynb",
   "provenance": [],
   "toc_visible": true
  },
  "kernelspec": {
   "display_name": "Python 3",
   "language": "python",
   "name": "python3"
  },
  "language_info": {
   "codemirror_mode": {
    "name": "ipython",
    "version": 3
   },
   "file_extension": ".py",
   "mimetype": "text/x-python",
   "name": "python",
   "nbconvert_exporter": "python",
   "pygments_lexer": "ipython3",
   "version": "3.7.6"
  }
 },
 "nbformat": 4,
 "nbformat_minor": 4
}

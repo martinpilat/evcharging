{
 "cells": [
  {
   "cell_type": "code",
   "execution_count": 4,
   "metadata": {},
   "outputs": [],
   "source": [
    "import pandas as pd\n",
    "\n",
    "trips = pd.read_csv('trips.csv', parse_dates=[4,5])\n",
    "trips.start = trips.start.dt.time\n",
    "trips.end = trips.end.dt.time\n",
    "trips.drop(columns=['HOUSEID', 'VEHID', 'TDAYDATE'], inplace=True)"
   ]
  },
  {
   "cell_type": "code",
   "execution_count": 5,
   "metadata": {},
   "outputs": [],
   "source": [
    "houses = pd.read_csv('selected_1.csv', parse_dates=[0])"
   ]
  },
  {
   "cell_type": "code",
   "execution_count": 6,
   "metadata": {},
   "outputs": [],
   "source": [
    "import numpy as np\n",
    "\n",
    "dates = houses.datetime.dt.date.unique()\n",
    "weekdays = np.array([d.weekday() for d in dates])\n",
    "nhts_weekdays = (weekdays + 1) % 7 + 1\n",
    "house_ids = houses.columns[1:]\n",
    "\n",
    "trips_by_nhts_day = [trips[trips.TRAVDAY == i] for i in range(1,8)]"
   ]
  },
  {
   "cell_type": "code",
   "execution_count": 7,
   "metadata": {},
   "outputs": [
    {
     "name": "stdout",
     "output_type": "stream",
     "text": [
      "Removed 108 impossible requests (0.593406593406598 %)\n"
     ]
    }
   ],
   "source": [
    "import datetime\n",
    "from collections import namedtuple\n",
    "\n",
    "Request = namedtuple('Request', ['houseid','available_after', 'available_before', 'missing_charge', 'charging_speed'])\n",
    "\n",
    "def round_time_up(dt):\n",
    "    if dt.minute > 30:\n",
    "        dt = dt.replace(minute=0)\n",
    "        dt += datetime.timedelta(hours=1)\n",
    "    elif dt.minute > 0:\n",
    "        dt = dt.replace(minute=30)\n",
    "    return dt\n",
    "\n",
    "def round_time_down(dt):\n",
    "    if dt.minute >= 30:\n",
    "        dt = dt.replace(minute=30)\n",
    "    else:\n",
    "        dt = dt.replace(minute=0)\n",
    "    return dt\n",
    "\n",
    "reqs = []\n",
    "for h in house_ids:\n",
    "    prev_trip = None\n",
    "    for w,d in zip(nhts_weekdays,dates):\n",
    "        day_trip = trips_by_nhts_day[w - 1].iloc[np.random.randint(0,len(trips_by_nhts_day[w - 1]))]\n",
    "        if prev_trip is not None:\n",
    "            aa = datetime.datetime(d.year, d.month, d.day, prev_trip.end.hour, prev_trip.end.minute) - datetime.timedelta(days=1)\n",
    "            aa = round_time_up(aa)\n",
    "            ab = datetime.datetime(d.year, d.month, d.day, day_trip.start.hour, day_trip.start.minute)\n",
    "            ab = round_time_down(ab)\n",
    "            r = Request(houseid = h, available_after = aa, available_before = ab, missing_charge = prev_trip.needed_charge, charging_speed = 3.0)\n",
    "            reqs.append(r)\n",
    "        prev_trip = day_trip\n",
    "\n",
    "r_len = len(reqs)\n",
    "reqs = [r for r in reqs if r.charging_speed*(r.available_before - r.available_after)/datetime.timedelta(minutes=60) >= r.missing_charge]\n",
    "print(f'Removed {r_len - len(reqs)} impossible requests ({(1-len(reqs)/r_len)*100} %)')"
   ]
  },
  {
   "cell_type": "code",
   "execution_count": 8,
   "metadata": {},
   "outputs": [],
   "source": [
    "# ,house_id,max_charging_speed,required_charge,available_after,available_before\n",
    "requests = pd.DataFrame()\n",
    "requests['houseid'] = [r.houseid for r in reqs]\n",
    "requests['max_charging_speed'] = 3.0\n",
    "requests['required_charge'] = [r.missing_charge for r in reqs]\n",
    "requests['available_after'] = [r.available_after for r in reqs]\n",
    "requests['available_before'] = [r.available_before for r in reqs]\n",
    "\n",
    "requests.to_csv('requests_1.csv')"
   ]
  }
 ],
 "metadata": {
  "kernelspec": {
   "display_name": "Python 3",
   "language": "python",
   "name": "python3"
  },
  "language_info": {
   "codemirror_mode": {
    "name": "ipython",
    "version": 3
   },
   "file_extension": ".py",
   "mimetype": "text/x-python",
   "name": "python",
   "nbconvert_exporter": "python",
   "pygments_lexer": "ipython3",
   "version": "3.7.6"
  }
 },
 "nbformat": 4,
 "nbformat_minor": 4
}

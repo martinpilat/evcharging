{
 "cells": [
  {
   "cell_type": "code",
   "execution_count": 46,
   "metadata": {},
   "outputs": [],
   "source": [
    "import pandas as pd\n",
    "\n",
    "data = pd.read_csv(f'data/Power-Networks-LCL-June2015(withAcornGps)v2_1.csv', parse_dates=[2], na_values=['Null'])\n",
    "for i in range(2,25):\n",
    "    data = data.append(pd.read_csv(f'data/Power-Networks-LCL-June2015(withAcornGps)v2_{i}.csv', parse_dates=[2], na_values=['Null']))\n",
    "    \n",
    "data.columns = ['houseid', 'std_flag', 'datetime', 'consumption', 'acorn', 'acorn_grouped']\n",
    "data.consumption = data.consumption.astype(float)\n",
    "data.consumption *= 2 # to get kW\n",
    "data.drop(columns=['std_flag', 'acorn', 'acorn_grouped'], inplace=True)\n",
    "data.drop_duplicates(['houseid', 'datetime'], inplace=True)"
   ]
  },
  {
   "cell_type": "code",
   "execution_count": 63,
   "metadata": {},
   "outputs": [],
   "source": [
    "import datetime\n",
    "non_null_counts = data[(data.consumption > 0) & (data.datetime >= datetime.datetime(2013,1,1)) & (data.datetime < datetime.datetime(2014,1,1))].groupby('houseid').agg('count').sort_values('consumption')\n",
    "relevant_houses = non_null_counts[non_null_counts.consumption >= 17500]"
   ]
  },
  {
   "cell_type": "code",
   "execution_count": 83,
   "metadata": {},
   "outputs": [],
   "source": [
    "filtered_data = data[data['houseid'].isin(relevant_houses.index[-500:])]\n",
    "filtered_data = filtered_data[(datetime.datetime(2013,1,1) <= filtered_data.datetime) & (filtered_data.datetime < datetime.datetime(2014,1,1))]\n",
    "filtered_data.reset_index(inplace=True)\n",
    "filtered_data.drop(columns=['index'], inplace=True)"
   ]
  },
  {
   "cell_type": "code",
   "execution_count": 112,
   "metadata": {},
   "outputs": [],
   "source": [
    "import matplotlib.pyplot as plt\n",
    "%matplotlib inline\n",
    "\n",
    "consumptions = pd.pivot_table(filtered_data, index=['datetime', 'houseid']).unstack()"
   ]
  },
  {
   "cell_type": "code",
   "execution_count": 121,
   "metadata": {},
   "outputs": [],
   "source": [
    "import numpy as np\n",
    "\n",
    "houseids = list(consumptions.columns)\n",
    "selected = np.random.choice(consumptions.columns, 50)\n",
    "baseline = list(set(houseids) - set(selected))\n",
    "\n",
    "consumptions[selected].to_csv('selected_5.csv')\n",
    "consumptions[baseline].sum(axis=1).to_csv('baseline_5.csv')"
   ]
  }
 ],
 "metadata": {
  "kernelspec": {
   "display_name": "Python 3",
   "language": "python",
   "name": "python3"
  },
  "language_info": {
   "codemirror_mode": {
    "name": "ipython",
    "version": 3
   },
   "file_extension": ".py",
   "mimetype": "text/x-python",
   "name": "python",
   "nbconvert_exporter": "python",
   "pygments_lexer": "ipython3",
   "version": "3.7.6"
  }
 },
 "nbformat": 4,
 "nbformat_minor": 4
}
